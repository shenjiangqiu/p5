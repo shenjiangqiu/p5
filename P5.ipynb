{
 "metadata": {
  "language_info": {
   "codemirror_mode": {
    "name": "ipython",
    "version": 3
   },
   "file_extension": ".py",
   "mimetype": "text/x-python",
   "name": "python",
   "nbconvert_exporter": "python",
   "pygments_lexer": "ipython3",
   "version": 3
  },
  "orig_nbformat": 2
 },
 "nbformat": 4,
 "nbformat_minor": 2,
 "cells": [
  {
   "cell_type": "code",
   "execution_count": null,
   "metadata": {},
   "outputs": [],
   "source": [
    "import pandas as pd\n",
    "import numpy as np\n",
    "import matplotlib.pyplot as plt\n",
    "from sklearn.preprocessing import StandardScaler\n",
    "from sklearn.decomposition import PCA\n",
    "#Load Data\n",
    "college_data = pd.read_csv(\"./p5-data/college_data.csv\")\n",
    "#college_data.head()\n",
    "cdata = college_data.iloc[:,3:]\n",
    "cdata.head()\n",
    "cdata.columns\n",
    "#Standarizing the features\n",
    "scdata = StandardScaler().fit_transform(cdata.values)\n",
    "cdataScaled = pd.DataFrame(data= scdata, columns=cdata.columns)\n",
    "cdataScaled.head()\n",
    "#PCA\n",
    "pca = PCA()\n",
    "pca.fit(cdataScaled)\n",
    "\n",
    "print(\"principal components\")\n",
    "print(pca.components_)\n",
    "print(\"\\nsingular values\")\n",
    "print(pca.singular_values_)\n",
    "print(\"\\nexplained variance ratio\")\n",
    "print(pca.explained_variance_ratio_)\n",
    "\n",
    "pc = pd.DataFrame(pca.components_)\n",
    "pc.columns = cdata.columns\n",
    "pc.index.name = \"PC\"\n",
    "pc\n",
    "\n",
    "# PC scores\n",
    "#pca = PCA(n_components=2)\n",
    "X = pca.fit_transform(cdataScaled)\n",
    "Xnew = pd.DataFrame(X)\n",
    "Xnew.head()"
   ]
  }
 ]
}